{
  "cells": [
    {
      "cell_type": "code",
      "execution_count": 6,
      "metadata": {
        "id": "t4F90-rB4LbC"
      },
      "outputs": [],
      "source": [
        "import torch\n",
        "import torch.nn as nn\n",
        "import torch.optim as optim\n",
        "from torch.utils.data import DataLoader, TensorDataset\n",
        "import torch.nn.functional as F\n",
        "import numpy as np\n",
        "import pandas as pd\n",
        "from tqdm import tqdm\n",
        "from sklearn.metrics import confusion_matrix, accuracy_score\n",
        "import seaborn as sns\n",
        "import matplotlib.pyplot as plt\n",
        "from copy import deepcopy\n",
        "import torch\n",
        "import torch.nn as nn\n",
        "import torch.optim as optim\n",
        "from torch.utils.data import DataLoader, TensorDataset\n",
        "import numpy as np\n",
        "from tqdm import tqdm\n",
        "\n",
        "\n"
      ]
    },
    {
      "cell_type": "code",
      "execution_count": 7,
      "metadata": {
        "id": "7GHDsc6D4LbE"
      },
      "outputs": [],
      "source": [
        "# Define the feature extractor (f)\n",
        "class FeatureExtractor(nn.Module):\n",
        "    def __init__(self):\n",
        "        super(FeatureExtractor, self).__init__()\n",
        "        self.conv = nn.Sequential(\n",
        "            nn.Conv2d(1, 32, kernel_size=3, stride=1, padding=1),\n",
        "            nn.ReLU(),\n",
        "            nn.MaxPool2d(2),\n",
        "            nn.Conv2d(32, 64, kernel_size=3, stride=1, padding=1),\n",
        "            nn.ReLU(),\n",
        "            nn.MaxPool2d(2),\n",
        "        )\n",
        "        self.flatten = nn.Flatten()\n",
        "        self.fc = nn.Linear(64 * 7 * 7, 128)\n",
        "\n",
        "    def forward(self, x):\n",
        "        x = self.conv(x)\n",
        "        x = self.flatten(x)\n",
        "        x = self.fc(x)\n",
        "        return x\n",
        "\n",
        "# Define the classification head (θ)\n",
        "class ClassificationHead(nn.Module):\n",
        "    def __init__(self, input_dim, num_classes):\n",
        "        super(ClassificationHead, self).__init__()\n",
        "        self.fc = nn.Linear(input_dim, num_classes)\n",
        "\n",
        "    def forward(self, x):\n",
        "        return self.fc(x)\n",
        "\n",
        "# Synthesizer: A simple generator for model inversion\n",
        "class Synthesizer(nn.Module):\n",
        "    def __init__(self, feature_dim, image_shape):\n",
        "        super(Synthesizer, self).__init__()\n",
        "        self.fc = nn.Linear(feature_dim, np.prod(image_shape))\n",
        "        self.image_shape = image_shape\n",
        "\n",
        "    def forward(self, features):\n",
        "        images = self.fc(features).view(-1, *self.image_shape)\n",
        "        return torch.sigmoid(images)  # Generate synthetic images\n"
      ]
    },
    {
      "cell_type": "code",
      "execution_count": 8,
      "metadata": {
        "id": "E54FlCcw4LbG"
      },
      "outputs": [],
      "source": [
        "def create_mnist_data(num_classes, task_index,csv_file=\"mnist.csv\", image_shape=(1, 28, 28)):\n",
        "    mnist_file = open(csv_file)\n",
        "    df = pd.read_csv(mnist_file)\n",
        "\n",
        "    # Determine the classes for this task\n",
        "    all_classes = sorted(df['label'].unique())  # Get all unique classes\n",
        "    start_class = task_index * num_classes      # Starting class for this task\n",
        "    end_class = start_class + num_classes       # Ending class for this task\n",
        "    valid_classes = all_classes[start_class:end_class]\n",
        "\n",
        "    # Filter the dataset for the valid classes\n",
        "    filtered_df = df[df['label'].isin(valid_classes)]\n",
        "\n",
        "    # Separate features and labels\n",
        "    X = filtered_df.drop(columns=['label']).values  # Features (flattened images)\n",
        "    y = filtered_df['label'].values                # Labels\n",
        "\n",
        "    # Normalize and reshape the images\n",
        "    X = torch.tensor(X / 255.0, dtype=torch.float32)  # Normalize to [0, 1]\n",
        "    X = X.view(-1, *image_shape)  # Reshape to (batch, 1, 28, 28)\n",
        "    y = torch.tensor(y, dtype=torch.long)            # Convert labels to tensors\n",
        "\n",
        "    return TensorDataset(X, y)"
      ]
    },
    {
      "cell_type": "code",
      "execution_count": 36,
      "metadata": {
        "id": "20FNuGvN4LbH"
      },
      "outputs": [],
      "source": [
        "# Define Local Classification Loss\n",
        "class LocalClassificationLoss(nn.Module):\n",
        "    def __init__(self):\n",
        "        super(LocalClassificationLoss, self).__init__()\n",
        "        self.criterion = nn.CrossEntropyLoss()\n",
        "\n",
        "    def forward(self, predictions, targets):\n",
        "        \"\"\"\n",
        "        Computes local classification loss (cross-entropy) on new data and new classifiers\n",
        "        to adapt the model to the new task while minimizing interference with old tasks.\n",
        "        \"\"\"\n",
        "        return self.criterion(predictions, targets)\n",
        "\n",
        "\n",
        "# Define Hard Knowledge Distillation Loss\n",
        "class HardKnowledgeDistillationLoss(nn.Module):\n",
        "    def __init__(self, temperature=1.0):\n",
        "        \"\"\"\n",
        "        Initializes the HKD loss with a temperature parameter.\n",
        "        \"\"\"\n",
        "        super(HardKnowledgeDistillationLoss, self).__init__()\n",
        "        self.temperature = temperature\n",
        "        self.criterion = nn.KLDivLoss(reduction=\"batchmean\")\n",
        "\n",
        "    def forward(self, student_logits, teacher_logits):\n",
        "        \"\"\"\n",
        "        Computes a harder variant of the HKD loss, applying it on synthetic data.\n",
        "        The teacher logits are detached, and the temperature scaling is applied.\n",
        "        \"\"\"\n",
        "        student_softmax = F.log_softmax(student_logits / self.temperature, dim=-1)\n",
        "        teacher_softmax = F.softmax(teacher_logits / self.temperature, dim=-1).detach()\n",
        "        return self.criterion(student_softmax, teacher_softmax) * (self.temperature ** 2)\n",
        "\n",
        "\n",
        "# Define Relational Knowledge Distillation Loss\n",
        "class RelationalKnowledgeDistillationLoss(nn.Module):\n",
        "    def __init__(self):\n",
        "        super(RelationalKnowledgeDistillationLoss, self).__init__()\n",
        "        self.criterion = nn.MSELoss()\n",
        "\n",
        "    def forward(self, student_features, teacher_features):\n",
        "        \"\"\"\n",
        "        Computes angle-wise relational knowledge distillation loss.\n",
        "        Transforms the representations before constructing relations and computes\n",
        "        cosine similarity among triplets of samples.\n",
        "        \"\"\"\n",
        "        # Compute pairwise cosine similarities for triplets\n",
        "        def cosine_triplet_relations(features):\n",
        "            normed_features = F.normalize(features, dim=-1)\n",
        "            relations = torch.matmul(normed_features, normed_features.T)  # Cosine similarities\n",
        "            return relations\n",
        "\n",
        "        teacher_relations = cosine_triplet_relations(teacher_features.detach())\n",
        "        student_relations = cosine_triplet_relations(student_features)\n",
        "\n",
        "        # Compute MSE loss between teacher and student relations\n",
        "        return self.criterion(student_relations, teacher_relations)\n",
        "\n",
        "# Train the Synthesizer\n",
        "def train_synthesizer(feature_extractor, old_model, synthesizer, train_loader, device):\n",
        "    synthesizer.train()\n",
        "    optimizer = optim.Adam(synthesizer.parameters(), lr=0.001)\n",
        "    criterion = nn.MSELoss()\n",
        "\n",
        "    for epoch in range(5):  # Train for 5 epochs\n",
        "        for images, _ in train_loader:\n",
        "            images = images.to(device)\n",
        "\n",
        "            # Extract features from the old model\n",
        "            with torch.no_grad():\n",
        "                features = old_model(images)\n",
        "\n",
        "            # Generate synthetic images\n",
        "            synthetic_images = synthesizer(features)\n",
        "\n",
        "            # Compute loss (reconstruction loss)\n",
        "            loss = criterion(synthetic_images, images)\n",
        "\n",
        "            optimizer.zero_grad()\n",
        "            loss.backward()\n",
        "            optimizer.step()\n",
        "\n",
        "# Elastic Weight Consolidation (EWC) Implementation\n",
        "class EWC:\n",
        "    def __init__(self, model, dataloader, device):\n",
        "        self.device = device\n",
        "        self.model = model\n",
        "        self.fisher_information = {}\n",
        "        self.saved_params = {}\n",
        "        self.compute_fisher_information(dataloader)\n",
        "\n",
        "    def compute_fisher_information(self, dataloader):\n",
        "        self.model.eval()\n",
        "        fisher_matrix = {}\n",
        "        for name, param in self.model.named_parameters():\n",
        "            fisher_matrix[name] = torch.zeros_like(param)\n",
        "        for images, labels in dataloader:\n",
        "            images, labels = images.to(self.device), labels.to(self.device)\n",
        "            self.model.zero_grad()\n",
        "            outputs = self.model(images)\n",
        "            loss = F.cross_entropy(outputs, labels)\n",
        "            loss.backward()\n",
        "            for name, param in self.model.named_parameters():\n",
        "                fisher_matrix[name] += param.grad ** 2\n",
        "        for name, param in self.model.named_parameters():\n",
        "            self.fisher_information[name] = fisher_matrix[name] / len(dataloader)\n",
        "\n",
        "    def penalty(self):\n",
        "        loss = 0.0\n",
        "        for name, param in self.model.named_parameters():\n",
        "            if name in self.saved_params:\n",
        "                loss += torch.sum(self.fisher_information[name] * (param - self.saved_params[name]) ** 2)\n",
        "        return loss\n",
        "\n",
        "    def save_params(self):\n",
        "        for name, param in self.model.named_parameters():\n",
        "            self.saved_params[name] = param.clone().detach()\n",
        "\n",
        "# Train R-DFCIL with EWC\n",
        "\n",
        "def train_r_dfcil(task_data, num_classes_per_task, image_shape, num_epoch=3):\n",
        "    device = torch.device(\"cuda\" if torch.cuda.is_available() else \"cpu\")\n",
        "\n",
        "    feature_extractor = FeatureExtractor().to(device)\n",
        "    synthesizer = Synthesizer(128, image_shape).to(device)\n",
        "\n",
        "    old_model = None\n",
        "    old_classification_head = None\n",
        "    ewc = None\n",
        "\n",
        "    for task_index, (train_dataset, test_dataset) in enumerate(task_data):\n",
        "        num_classes = sum(num_classes_per_task[:task_index + 1])\n",
        "        classification_head = ClassificationHead(128, num_classes).to(device)\n",
        "        print(\"num_classes:\", num_classes)\n",
        "        train_loader = DataLoader(train_dataset, batch_size=32, shuffle=True)\n",
        "        test_loader = DataLoader(test_dataset, batch_size=32, shuffle=False)\n",
        "\n",
        "        # Stage 1: Train Synthesizer\n",
        "        if old_model is not None:\n",
        "            train_synthesizer(feature_extractor, old_model, synthesizer, train_loader, device)\n",
        "\n",
        "        # Stage 2: Representation Learning\n",
        "        feature_extractor.train()\n",
        "        classification_head.train()\n",
        "        optimizer = optim.Adam(\n",
        "            list(feature_extractor.parameters()) + list(classification_head.parameters()),\n",
        "            lr=0.001,\n",
        "        )\n",
        "\n",
        "        local_loss_fn = LocalClassificationLoss()\n",
        "        if old_model is not None:\n",
        "            hard_kd_loss_fn = HardKnowledgeDistillationLoss()\n",
        "            relational_kd_loss_fn = RelationalKnowledgeDistillationLoss()\n",
        "\n",
        "        print(f\"Training task {task_index + 1} - Representation Learning\")\n",
        "        for epoch in range(num_epoch):\n",
        "            epoch_bar = tqdm(train_loader, desc=f\"Epoch {epoch + 1}/{num_epoch}\", leave=False)\n",
        "            for images, labels in epoch_bar:\n",
        "                images, labels = images.to(device), labels.to(device)\n",
        "\n",
        "                # Forward pass\n",
        "                features = feature_extractor(images)\n",
        "                predictions = classification_head(features)\n",
        "\n",
        "                # Local classification loss\n",
        "                loss = local_loss_fn(predictions, labels)\n",
        "\n",
        "                # Knowledge distillation losses\n",
        "                if old_model is not None:\n",
        "                    with torch.no_grad():\n",
        "                        old_features = old_model(images)\n",
        "                        old_predictions = old_classification_head(old_features)\n",
        "\n",
        "                    # Align the output shapes before calculating the loss\n",
        "                    old_predictions = F.pad(old_predictions, (0, num_classes - old_predictions.shape[1]))\n",
        "\n",
        "                    # Dynamic weighting for KD losses\n",
        "                    hkd_loss = hard_kd_loss_fn(predictions, old_predictions)\n",
        "                    rkd_loss = relational_kd_loss_fn(features, old_features)\n",
        "\n",
        "                    kd_weight = 0.5  # Can be dynamically adjusted based on performance\n",
        "                    loss += kd_weight * (hkd_loss + rkd_loss)\n",
        "\n",
        "                # EWC penalty\n",
        "                if ewc is not None:\n",
        "                    loss += 0.01 * ewc.penalty()  # Regularization strength can be tuned\n",
        "\n",
        "                optimizer.zero_grad()\n",
        "                loss.backward()\n",
        "                optimizer.step()\n",
        "            print(f\"Epoch {epoch + 1} completed.\")\n",
        "\n",
        "        # Stage 3: Refining the Classification Head\n",
        "        classification_head.train()\n",
        "        class_counts = torch.zeros(num_classes, device=device)\n",
        "        for _, labels in train_loader:\n",
        "            for label in labels:\n",
        "                class_counts[label] += 1\n",
        "\n",
        "        class_weights = 1.0 / (class_counts + 1e-5)  # Avoid division by zero\n",
        "        class_weights /= class_weights.sum()\n",
        "\n",
        "        global_loss_fn = nn.CrossEntropyLoss(weight=class_weights)\n",
        "        optimizer = optim.Adam(classification_head.parameters(), lr=0.001)\n",
        "\n",
        "        print(f\"Training task {task_index + 1} - Refining Classification Head\")\n",
        "        for epoch in range(5):  # Refine for 5 epochs\n",
        "            epoch_bar = tqdm(train_loader, desc=f\"Epoch {epoch + 1}/5\", leave=False)\n",
        "            for images, labels in epoch_bar:\n",
        "                images, labels = images.to(device), labels.to(device)\n",
        "\n",
        "                # Forward pass\n",
        "                features = feature_extractor(images)\n",
        "                predictions = classification_head(features)\n",
        "\n",
        "                # Compute global loss\n",
        "                loss = global_loss_fn(predictions, labels)\n",
        "\n",
        "                optimizer.zero_grad()\n",
        "                loss.backward()\n",
        "                optimizer.step()\n",
        "            print(f\"Epoch {epoch + 1} completed.\")\n",
        "\n",
        "        # Save the old model and classification head\n",
        "        old_model = feature_extractor\n",
        "        old_classification_head = classification_head\n",
        "\n",
        "        # Initialize EWC for the current task\n",
        "        ewc = EWC(feature_extractor, train_loader, device)\n",
        "        ewc.save_params()\n",
        "\n",
        "    return feature_extractor, classification_head, synthesizer\n"
      ]
    },
    {
      "cell_type": "code",
      "execution_count": 37,
      "metadata": {
        "colab": {
          "base_uri": "https://localhost:8080/"
        },
        "id": "lYA5buvH4LbH",
        "outputId": "9e07b497-42bc-4f3c-a1d5-aac7e91704f4"
      },
      "outputs": [
        {
          "output_type": "stream",
          "name": "stdout",
          "text": [
            "num_classes: 5\n",
            "Training task 1 - Representation Learning\n"
          ]
        },
        {
          "output_type": "stream",
          "name": "stderr",
          "text": []
        },
        {
          "output_type": "stream",
          "name": "stdout",
          "text": [
            "Epoch 1 completed.\n"
          ]
        },
        {
          "output_type": "stream",
          "name": "stderr",
          "text": []
        },
        {
          "output_type": "stream",
          "name": "stdout",
          "text": [
            "Epoch 2 completed.\n"
          ]
        },
        {
          "output_type": "stream",
          "name": "stderr",
          "text": []
        },
        {
          "output_type": "stream",
          "name": "stdout",
          "text": [
            "Epoch 3 completed.\n",
            "Training task 1 - Refining Classification Head\n"
          ]
        },
        {
          "output_type": "stream",
          "name": "stderr",
          "text": []
        },
        {
          "output_type": "stream",
          "name": "stdout",
          "text": [
            "Epoch 1 completed.\n"
          ]
        },
        {
          "output_type": "stream",
          "name": "stderr",
          "text": []
        },
        {
          "output_type": "stream",
          "name": "stdout",
          "text": [
            "Epoch 2 completed.\n"
          ]
        },
        {
          "output_type": "stream",
          "name": "stderr",
          "text": []
        },
        {
          "output_type": "stream",
          "name": "stdout",
          "text": [
            "Epoch 3 completed.\n"
          ]
        },
        {
          "output_type": "stream",
          "name": "stderr",
          "text": []
        },
        {
          "output_type": "stream",
          "name": "stdout",
          "text": [
            "Epoch 4 completed.\n"
          ]
        },
        {
          "output_type": "stream",
          "name": "stderr",
          "text": []
        },
        {
          "output_type": "stream",
          "name": "stdout",
          "text": [
            "Epoch 5 completed.\n",
            "num_classes: 10\n",
            "Training task 2 - Representation Learning\n"
          ]
        },
        {
          "output_type": "stream",
          "name": "stderr",
          "text": []
        },
        {
          "output_type": "stream",
          "name": "stdout",
          "text": [
            "Epoch 1 completed.\n"
          ]
        },
        {
          "output_type": "stream",
          "name": "stderr",
          "text": []
        },
        {
          "output_type": "stream",
          "name": "stdout",
          "text": [
            "Epoch 2 completed.\n"
          ]
        },
        {
          "output_type": "stream",
          "name": "stderr",
          "text": []
        },
        {
          "output_type": "stream",
          "name": "stdout",
          "text": [
            "Epoch 3 completed.\n",
            "Training task 2 - Refining Classification Head\n"
          ]
        },
        {
          "output_type": "stream",
          "name": "stderr",
          "text": []
        },
        {
          "output_type": "stream",
          "name": "stdout",
          "text": [
            "Epoch 1 completed.\n"
          ]
        },
        {
          "output_type": "stream",
          "name": "stderr",
          "text": []
        },
        {
          "output_type": "stream",
          "name": "stdout",
          "text": [
            "Epoch 2 completed.\n"
          ]
        },
        {
          "output_type": "stream",
          "name": "stderr",
          "text": []
        },
        {
          "output_type": "stream",
          "name": "stdout",
          "text": [
            "Epoch 3 completed.\n"
          ]
        },
        {
          "output_type": "stream",
          "name": "stderr",
          "text": []
        },
        {
          "output_type": "stream",
          "name": "stdout",
          "text": [
            "Epoch 4 completed.\n"
          ]
        },
        {
          "output_type": "stream",
          "name": "stderr",
          "text": []
        },
        {
          "output_type": "stream",
          "name": "stdout",
          "text": [
            "Epoch 5 completed.\n"
          ]
        }
      ],
      "source": [
        "num_classes_per_task = [5, 5]  # Task 1: 5 classes, Task 2: 5 classes\n",
        "image_shape = (1, 28, 28)\n",
        "\n",
        "# Load MNIST datasets for tasks\n",
        "task1_data = create_mnist_data(num_classes_per_task[0], task_index=0, image_shape=image_shape)\n",
        "task2_data = create_mnist_data(num_classes_per_task[1], task_index=1, image_shape=image_shape)\n",
        "data = create_mnist_data(10, task_index=0, image_shape=image_shape)\n",
        "\n",
        "# Prepare task data\n",
        "task_data = [(task1_data, task1_data), (task2_data, task2_data)]  # (train, test)\n",
        "\n",
        "# Train R-DFCIL\n",
        "feature_extractor, classification_head, synthesizer = train_r_dfcil(task_data, num_classes_per_task, image_shape=image_shape)"
      ]
    },
    {
      "cell_type": "code",
      "source": [
        "def inference_on_model(feature_extractor, classification_head, loader, num_classes):\n",
        "    feature_extractor.eval()\n",
        "    classification_head.eval()\n",
        "\n",
        "    all_preds = []\n",
        "    all_labels = []\n",
        "    device = torch.device(\"cuda\" if torch.cuda.is_available() else \"cpu\")\n",
        "\n",
        "    feature_extractor.to(device)\n",
        "    classification_head.to(device)\n",
        "\n",
        "    with torch.no_grad():\n",
        "        for batch_idx, (images, labels) in enumerate(loader):\n",
        "            images, labels = images.to(device), labels.to(device)\n",
        "\n",
        "            # Ensure images have the correct batch and channel dimensions\n",
        "            if len(images.shape) == 3:  # If shape is (batch, height, width)\n",
        "                images = images.unsqueeze(1)  # Add channel dimension (batch, channels, height, width)\n",
        "\n",
        "            # Forward pass\n",
        "            features = feature_extractor(images)\n",
        "            logits = classification_head(features)\n",
        "            predictions = torch.argmax(logits, dim=1)\n",
        "\n",
        "            # Collect results for evaluation\n",
        "            all_preds.extend(predictions.cpu().numpy())\n",
        "\n",
        "            # Reshape labels to match batch processing\n",
        "            if labels.ndimension() == 0:  # If labels are 0-dimensional (scalar)\n",
        "                labels = labels.unsqueeze(0)\n",
        "\n",
        "            all_labels.extend(labels.cpu().numpy())\n",
        "\n",
        "            # Occasionally display predictions\n",
        "            if batch_idx % 2000 == 0:  # Adjust frequency as needed\n",
        "                print(f\"Batch {batch_idx} Predictions:\")\n",
        "                print(f\"Predicted: {predictions.cpu().numpy()}\")\n",
        "                print(f\"True:      {labels.cpu().numpy()}\")\n",
        "\n",
        "    # Compute accuracy\n",
        "    accuracy = accuracy_score(all_labels, all_preds)\n",
        "    print(f\"\\nAccuracy: {accuracy * 100:.2f}%\")\n",
        "\n",
        "    # Compute confusion matrix\n",
        "    cm = confusion_matrix(all_labels, all_preds, labels=list(range(num_classes)))\n",
        "    plt.figure(figsize=(10, 8))\n",
        "    sns.heatmap(cm, annot=True, fmt=\"d\", cmap=\"Blues\", xticklabels=list(range(num_classes)),\n",
        "                yticklabels=list(range(num_classes)))\n",
        "    plt.xlabel(\"Predicted\")\n",
        "    plt.ylabel(\"True\")\n",
        "    plt.title(\"Confusion Matrix\")\n",
        "    plt.show()\n",
        "    print(cm)\n"
      ],
      "metadata": {
        "id": "QDTbbq576cGp"
      },
      "execution_count": 38,
      "outputs": []
    },
    {
      "cell_type": "code",
      "source": [
        "inference_on_model(feature_extractor,classification_head,data,10)"
      ],
      "metadata": {
        "colab": {
          "base_uri": "https://localhost:8080/",
          "height": 1000
        },
        "id": "oMSZj9eN8E3j",
        "outputId": "f8ea4875-0746-42ff-c6d9-ef7eff274dcc"
      },
      "execution_count": 39,
      "outputs": [
        {
          "output_type": "stream",
          "name": "stdout",
          "text": [
            "Batch 0 Predictions:\n",
            "Predicted: [7]\n",
            "True:      [1]\n",
            "Batch 2000 Predictions:\n",
            "Predicted: [5]\n",
            "True:      [3]\n",
            "Batch 4000 Predictions:\n",
            "Predicted: [8]\n",
            "True:      [8]\n",
            "Batch 6000 Predictions:\n",
            "Predicted: [7]\n",
            "True:      [1]\n",
            "Batch 8000 Predictions:\n",
            "Predicted: [8]\n",
            "True:      [8]\n",
            "Batch 10000 Predictions:\n",
            "Predicted: [8]\n",
            "True:      [2]\n",
            "Batch 12000 Predictions:\n",
            "Predicted: [7]\n",
            "True:      [7]\n",
            "Batch 14000 Predictions:\n",
            "Predicted: [6]\n",
            "True:      [6]\n",
            "Batch 16000 Predictions:\n",
            "Predicted: [8]\n",
            "True:      [1]\n",
            "Batch 18000 Predictions:\n",
            "Predicted: [7]\n",
            "True:      [7]\n",
            "Batch 20000 Predictions:\n",
            "Predicted: [5]\n",
            "True:      [3]\n",
            "Batch 22000 Predictions:\n",
            "Predicted: [7]\n",
            "True:      [7]\n",
            "Batch 24000 Predictions:\n",
            "Predicted: [9]\n",
            "True:      [4]\n",
            "Batch 26000 Predictions:\n",
            "Predicted: [6]\n",
            "True:      [1]\n",
            "Batch 28000 Predictions:\n",
            "Predicted: [5]\n",
            "True:      [3]\n",
            "Batch 30000 Predictions:\n",
            "Predicted: [5]\n",
            "True:      [3]\n",
            "Batch 32000 Predictions:\n",
            "Predicted: [6]\n",
            "True:      [6]\n",
            "Batch 34000 Predictions:\n",
            "Predicted: [5]\n",
            "True:      [1]\n",
            "Batch 36000 Predictions:\n",
            "Predicted: [8]\n",
            "True:      [1]\n",
            "Batch 38000 Predictions:\n",
            "Predicted: [5]\n",
            "True:      [5]\n",
            "Batch 40000 Predictions:\n",
            "Predicted: [8]\n",
            "True:      [2]\n",
            "\n",
            "Accuracy: 48.89%\n"
          ]
        },
        {
          "output_type": "display_data",
          "data": {
            "text/plain": [
              "<Figure size 1000x800 with 2 Axes>"
            ],
            "image/png": "[encoded data removed]"
          },
          "metadata": {}
        },
        {
          "output_type": "stream",
          "name": "stdout",
          "text": [
            "[[   0    0    0    0    0   13 3236    4  396  483]\n",
            " [   0    0    0    0    0  763  758 2377  700   86]\n",
            " [   0    0    0    0    0    3   82 1622 2430   40]\n",
            " [   0    0    0    0    0 3349    1  486  232  283]\n",
            " [   0    0    0    0    0    2  105  701  205 3059]\n",
            " [   0    0    0    0    0 3786    5    1    2    1]\n",
            " [   0    0    0    0    0    3 4132    0    2    0]\n",
            " [   0    0    0    0    0    0    0 4397    0    4]\n",
            " [   0    0    0    0    0    4    3    0 4049    7]\n",
            " [   0    0    0    0    0    6    0    7    5 4170]]\n"
          ]
        }
      ]
    },
    {
      "cell_type": "code",
      "source": [
        "import torch\n",
        "import torch.nn as nn\n",
        "import torch.optim as optim\n",
        "from torch.utils.data import DataLoader, TensorDataset\n",
        "from tqdm import tqdm\n",
        "\n",
        "# Define a simple CNN model\n",
        "class SimpleCNN(nn.Module):\n",
        "    def __init__(self, num_classes):\n",
        "        super(SimpleCNN, self).__init__()\n",
        "        self.conv1 = nn.Conv2d(1, 32, kernel_size=3, stride=1, padding=1)\n",
        "        self.conv2 = nn.Conv2d(32, 64, kernel_size=3, stride=1, padding=1)\n",
        "        self.fc1 = nn.Linear(64 * 7 * 7, 128)\n",
        "        self.fc2 = nn.Linear(128, num_classes)\n",
        "\n",
        "    def forward(self, x):\n",
        "        x = torch.relu(self.conv1(x))\n",
        "        x = torch.max_pool2d(x, 2, 2)\n",
        "        x = torch.relu(self.conv2(x))\n",
        "        x = torch.max_pool2d(x, 2, 2)\n",
        "        x = x.view(x.size(0), -1)  # Flatten\n",
        "        x = torch.relu(self.fc1(x))\n",
        "        x = self.fc2(x)\n",
        "        return x\n",
        "\n",
        "# Training function with progress bar and CUDA support\n",
        "def train_model(model, data_loader, criterion, optimizer, epochs, device):\n",
        "    model.train()\n",
        "    for epoch in range(epochs):\n",
        "        total_loss = 0\n",
        "        with tqdm(total=len(data_loader), desc=f\"Epoch {epoch + 1}/{epochs}\", unit=\"batch\") as pbar:\n",
        "            for X_batch, y_batch in data_loader:\n",
        "                X_batch, y_batch = X_batch.to(device), y_batch.to(device)\n",
        "                optimizer.zero_grad()\n",
        "                outputs = model(X_batch)\n",
        "                loss = criterion(outputs, y_batch)\n",
        "                loss.backward()\n",
        "                optimizer.step()\n",
        "                total_loss += loss.item()\n",
        "                pbar.set_postfix(loss=total_loss / (pbar.n + 1))\n",
        "                pbar.update(1)\n",
        "\n",
        "# Evaluation function with CUDA support\n",
        "def evaluate_model(model, data_loader, device):\n",
        "    model.eval()\n",
        "    correct = 0\n",
        "    total = 0\n",
        "    with torch.no_grad():\n",
        "        for X_batch, y_batch in data_loader:\n",
        "            X_batch, y_batch = X_batch.to(device), y_batch.to(device)\n",
        "            outputs = model(X_batch)\n",
        "            _, predicted = torch.max(outputs, 1)\n",
        "            correct += (predicted == y_batch).sum().item()\n",
        "            total += y_batch.size(0)\n",
        "    return correct / total\n",
        "\n",
        "# Check if CUDA is available\n",
        "device = torch.device(\"cuda\" if torch.cuda.is_available() else \"cpu\")\n",
        "print(f\"Using device: {device}\")\n",
        "\n",
        "# Create dataloaders\n",
        "batch_size = 64\n",
        "task1_loader = DataLoader(task1_data, batch_size=batch_size, shuffle=True)\n",
        "task2_loader = DataLoader(task2_data, batch_size=batch_size, shuffle=True)\n",
        "combined_data_loader = DataLoader(data, batch_size=batch_size, shuffle=False)\n",
        "\n",
        "# Initialize model, loss, and optimizer\n",
        "num_classes = 10\n",
        "model = SimpleCNN(num_classes=num_classes).to(device)\n",
        "criterion = nn.CrossEntropyLoss()\n",
        "optimizer = optim.Adam(model.parameters(), lr=0.001)\n",
        "\n",
        "# Train on task 1\n",
        "print(\"Training on Task 1...\")\n",
        "train_model(model, task1_loader, criterion, optimizer, epochs=5, device=device)\n",
        "accuracy_task1 = evaluate_model(model, task1_loader, device)\n",
        "print(f\"Accuracy on Task 1: {accuracy_task1:.2f}\")\n",
        "\n",
        "# Fine-tune on task 2 with reduced learning rate\n",
        "print(\"Fine-tuning on Task 2...\")\n",
        "for param_group in optimizer.param_groups:\n",
        "    param_group['lr'] = 0.00001  # Reduce learning rate\n",
        "\n",
        "train_model(model, task2_loader, criterion, optimizer, epochs=5, device=device)\n",
        "accuracy_task2 = evaluate_model(model, task2_loader, device)\n",
        "print(f\"Accuracy on Task 2: {accuracy_task2:.2f}\")\n",
        "\n",
        "# Final evaluation on all classes\n",
        "accuracy_combined = evaluate_model(model, combined_data_loader, device)\n",
        "print(f\"Final Accuracy on All Classes: {accuracy_combined:.2f}\")\n"
      ],
      "metadata": {
        "id": "R5iBoO5-t43G",
        "outputId": "8dc53902-6e6b-4ad1-86bb-191cc351795a",
        "colab": {
          "base_uri": "https://localhost:8080/"
        }
      },
      "execution_count": 48,
      "outputs": [
        {
          "output_type": "stream",
          "name": "stdout",
          "text": [
            "Using device: cuda\n",
            "Training on Task 1...\n"
          ]
        },
        {
          "output_type": "stream",
          "name": "stderr",
          "text": [
            "Epoch 1/5: 100%|██████████| 335/335 [00:02<00:00, 126.90batch/s, loss=0.169]\n",
            "Epoch 2/5: 100%|██████████| 335/335 [00:02<00:00, 138.87batch/s, loss=0.0363]\n",
            "Epoch 3/5: 100%|██████████| 335/335 [00:02<00:00, 119.67batch/s, loss=0.0229]\n",
            "Epoch 4/5: 100%|██████████| 335/335 [00:02<00:00, 134.49batch/s, loss=0.0142]\n",
            "Epoch 5/5: 100%|██████████| 335/335 [00:02<00:00, 139.36batch/s, loss=0.0121]\n"
          ]
        },
        {
          "output_type": "stream",
          "name": "stdout",
          "text": [
            "Accuracy on Task 1: 1.00\n",
            "Fine-tuning on Task 2...\n"
          ]
        },
        {
          "output_type": "stream",
          "name": "stderr",
          "text": [
            "Epoch 1/5: 100%|██████████| 322/322 [00:02<00:00, 141.60batch/s, loss=7.39]\n",
            "Epoch 2/5: 100%|██████████| 322/322 [00:02<00:00, 141.60batch/s, loss=2.39]\n",
            "Epoch 3/5: 100%|██████████| 322/322 [00:02<00:00, 128.03batch/s, loss=1.48]\n",
            "Epoch 4/5: 100%|██████████| 322/322 [00:02<00:00, 119.47batch/s, loss=0.997]\n",
            "Epoch 5/5: 100%|██████████| 322/322 [00:02<00:00, 143.91batch/s, loss=0.681]\n"
          ]
        },
        {
          "output_type": "stream",
          "name": "stdout",
          "text": [
            "Accuracy on Task 2: 0.91\n",
            "Final Accuracy on All Classes: 0.69\n"
          ]
        }
      ]
    },
    {
      "cell_type": "code",
      "source": [
        "def inference_on_model(model, loader, num_classes):\n",
        "    feature_extractor.eval()\n",
        "    classification_head.eval()\n",
        "\n",
        "    all_preds = []\n",
        "    all_labels = []\n",
        "    device = torch.device(\"cuda\" if torch.cuda.is_available() else \"cpu\")\n",
        "\n",
        "    feature_extractor.to(device)\n",
        "    classification_head.to(device)\n",
        "\n",
        "    with torch.no_grad():\n",
        "        for batch_idx, (images, labels) in enumerate(loader):\n",
        "            images, labels = images.to(device), labels.to(device)\n",
        "\n",
        "            # Ensure images have the correct batch and channel dimensions\n",
        "            if len(images.shape) == 3:  # If shape is (batch, height, width)\n",
        "                images = images.unsqueeze(1)  # Add channel dimension (batch, channels, height, width)\n",
        "\n",
        "            # Forward pass\n",
        "            # features = feature_extractor(images)\n",
        "            logits = model(images)\n",
        "            predictions = torch.argmax(logits, dim=1)\n",
        "\n",
        "            # Collect results for evaluation\n",
        "            all_preds.extend(predictions.cpu().numpy())\n",
        "\n",
        "            # Reshape labels to match batch processing\n",
        "            if labels.ndimension() == 0:  # If labels are 0-dimensional (scalar)\n",
        "                labels = labels.unsqueeze(0)\n",
        "\n",
        "            all_labels.extend(labels.cpu().numpy())\n",
        "\n",
        "            # Occasionally display predictions\n",
        "            if batch_idx % 2000 == 0:  # Adjust frequency as needed\n",
        "                print(f\"Batch {batch_idx} Predictions:\")\n",
        "                print(f\"Predicted: {predictions.cpu().numpy()}\")\n",
        "                print(f\"True:      {labels.cpu().numpy()}\")\n",
        "\n",
        "    # Compute accuracy\n",
        "    accuracy = accuracy_score(all_labels, all_preds)\n",
        "    print(f\"\\nAccuracy: {accuracy * 100:.2f}%\")\n",
        "\n",
        "    # Compute confusion matrix\n",
        "    cm = confusion_matrix(all_labels, all_preds, labels=list(range(num_classes)))\n",
        "    plt.figure(figsize=(10, 8))\n",
        "    sns.heatmap(cm, annot=True, fmt=\"d\", cmap=\"Blues\", xticklabels=list(range(num_classes)),\n",
        "                yticklabels=list(range(num_classes)))\n",
        "    plt.xlabel(\"Predicted\")\n",
        "    plt.ylabel(\"True\")\n",
        "    plt.title(\"Confusion Matrix\")\n",
        "    plt.show()\n",
        "    print(cm)\n"
      ],
      "metadata": {
        "id": "ktely8aU2dOV"
      },
      "execution_count": 46,
      "outputs": []
    },
    {
      "cell_type": "code",
      "source": [
        "inference_on_model(model,combined_data_loader,10)"
      ],
      "metadata": {
        "id": "laMwpcYj47I2",
        "outputId": "4e61dc50-6409-497f-c84e-4585313f2123",
        "colab": {
          "base_uri": "https://localhost:8080/",
          "height": 1000
        }
      },
      "execution_count": 49,
      "outputs": [
        {
          "output_type": "stream",
          "name": "stdout",
          "text": [
            "Batch 0 Predictions:\n",
            "Predicted: [1 7 1 4 7 7 7 3 5 5 8 9 1 5 5 1 8 7 7 6 8 6 2 7 2 5 6 9 9 7 8 9 6 9 2 1 5\n",
            " 1 1 4 8 1 4 9 2 6 5 7 7 4 7 5 1 9 7 2 2 3 9 1 1 1 9 7]\n",
            "True:      [1 0 1 4 0 0 7 3 5 3 8 9 1 3 3 1 2 0 7 5 8 6 2 0 2 3 6 9 9 7 8 9 4 9 2 1 3\n",
            " 1 1 4 9 1 4 4 2 6 3 7 7 4 7 5 1 9 0 2 2 3 9 1 1 1 5 0]\n",
            "\n",
            "Accuracy: 68.99%\n"
          ]
        },
        {
          "output_type": "display_data",
          "data": {
            "text/plain": [
              "<Figure size 1000x800 with 2 Axes>"
            ],
            "image/png": "[encoded data removed]"
          },
          "metadata": {}
        },
        {
          "output_type": "stream",
          "name": "stdout",
          "text": [
            "[[ 127    0    0    0    0    5  302 3335  316   47]\n",
            " [   0 4341    0    0    0    1  269   17   53    3]\n",
            " [   0    4 2448    0    0   14  142   97 1375   97]\n",
            " [   0    0    0  737    0 3051    8   29  469   57]\n",
            " [   0    5    0    0 2635    1  744   19   14  654]\n",
            " [   3    9    2   19    1 3339   53   43  151  175]\n",
            " [   2    0    0    0    0   29 4036   16   36   18]\n",
            " [   1    6   11    1    7   18    3 3833  143  378]\n",
            " [   0    5    3    0    0   87   70   57 3692  149]\n",
            " [   0    1    0    3   12   46   41  214   82 3789]]\n"
          ]
        }
      ]
    },
    {
      "cell_type": "code",
      "source": [
        "import torch\n",
        "import torch.nn as nn\n",
        "import torch.optim as optim\n",
        "from torch.utils.data import DataLoader, TensorDataset\n",
        "from tqdm import tqdm\n",
        "\n",
        "# Define a simple CNN model\n",
        "class SimpleCNN(nn.Module):\n",
        "    def __init__(self, num_classes):\n",
        "        super(SimpleCNN, self).__init__()\n",
        "        self.conv1 = nn.Conv2d(1, 32, kernel_size=3, stride=1, padding=1)\n",
        "        self.conv2 = nn.Conv2d(32, 64, kernel_size=3, stride=1, padding=1)\n",
        "        self.fc1 = nn.Linear(64 * 7 * 7, 128)\n",
        "        self.fc2 = nn.Linear(128, num_classes)\n",
        "\n",
        "    def forward(self, x):\n",
        "        x = torch.relu(self.conv1(x))\n",
        "        x = torch.max_pool2d(x, 2, 2)\n",
        "        x = torch.relu(self.conv2(x))\n",
        "        x = torch.max_pool2d(x, 2, 2)\n",
        "        x = x.view(x.size(0), -1)  # Flatten\n",
        "        x = torch.relu(self.fc1(x))\n",
        "        x = self.fc2(x)\n",
        "        return x\n",
        "\n",
        "def train_model(model, data_loader, criterion, optimizer, epochs, device):\n",
        "    model.train()\n",
        "    for epoch in range(epochs):\n",
        "        total_loss = 0\n",
        "        with tqdm(total=len(data_loader), desc=f\"Epoch {epoch + 1}/{epochs}\", unit=\"batch\") as pbar:\n",
        "            for X_batch, y_batch in data_loader:\n",
        "                X_batch, y_batch = X_batch.to(device), y_batch.to(device)\n",
        "                optimizer.zero_grad()\n",
        "                outputs = model(X_batch)\n",
        "                loss = criterion(outputs, y_batch)\n",
        "                loss.backward()\n",
        "                optimizer.step()\n",
        "                total_loss += loss.item()\n",
        "                pbar.set_postfix(loss=total_loss / (pbar.n + 1))\n",
        "                pbar.update(1)\n",
        "\n",
        "\n",
        "# Training function with progress bar\n",
        "def train_model_with_kd(student, teacher, data_loader, optimizer, criterion_ce, criterion_kd, alpha, temperature, epochs, device):\n",
        "    student.train()\n",
        "    teacher.eval()\n",
        "    for epoch in range(epochs):\n",
        "        total_loss = 0\n",
        "        with tqdm(total=len(data_loader), desc=f\"Epoch {epoch + 1}/{epochs}\", unit=\"batch\") as pbar:\n",
        "            for X_batch, y_batch in data_loader:\n",
        "                X_batch, y_batch = X_batch.to(device), y_batch.to(device)\n",
        "\n",
        "                optimizer.zero_grad()\n",
        "\n",
        "                # Student predictions\n",
        "                student_outputs = student(X_batch)\n",
        "\n",
        "                # Teacher predictions (detach to avoid backpropagation through the teacher)\n",
        "                with torch.no_grad():\n",
        "                    teacher_outputs = teacher(X_batch)\n",
        "\n",
        "                # KD Loss\n",
        "                kd_loss = criterion_kd(\n",
        "                    nn.functional.log_softmax(student_outputs / temperature, dim=1),\n",
        "                    nn.functional.softmax(teacher_outputs / temperature, dim=1)\n",
        "                ) * (temperature ** 2)\n",
        "\n",
        "                # Cross-Entropy Loss\n",
        "                ce_loss = criterion_ce(student_outputs, y_batch)\n",
        "\n",
        "                # Combined Loss\n",
        "                loss = alpha * kd_loss + (1 - alpha) * (ce_loss * 2)\n",
        "                loss.backward()\n",
        "                optimizer.step()\n",
        "\n",
        "                total_loss += loss.item()\n",
        "                pbar.set_postfix(loss=total_loss / (pbar.n + 1))\n",
        "                pbar.update(1)\n",
        "\n",
        "# Evaluation function\n",
        "def evaluate_model(model, data_loader, device):\n",
        "    model.eval()\n",
        "    correct = 0\n",
        "    total = 0\n",
        "    with torch.no_grad():\n",
        "        for X_batch, y_batch in data_loader:\n",
        "            X_batch, y_batch = X_batch.to(device), y_batch.to(device)\n",
        "            outputs = model(X_batch)\n",
        "            _, predicted = torch.max(outputs, 1)\n",
        "            correct += (predicted == y_batch).sum().item()\n",
        "            total += y_batch.size(0)\n",
        "    return correct / total\n",
        "\n",
        "# Check if CUDA is available\n",
        "device = torch.device(\"cuda\" if torch.cuda.is_available() else \"cpu\")\n",
        "print(f\"Using device: {device}\")\n",
        "\n",
        "# Create dataloaders\n",
        "batch_size = 64\n",
        "task1_loader = DataLoader(task1_data, batch_size=batch_size, shuffle=True)\n",
        "task2_loader = DataLoader(task2_data, batch_size=batch_size, shuffle=True)\n",
        "combined_data_loader = DataLoader(data, batch_size=batch_size, shuffle=False)\n",
        "\n",
        "# Initialize models\n",
        "num_classes = 10\n",
        "teacher_model = SimpleCNN(num_classes=num_classes).to(device)\n",
        "student_model = SimpleCNN(num_classes=num_classes).to(device)\n",
        "\n",
        "# Losses and optimizer\n",
        "criterion_ce = nn.CrossEntropyLoss()\n",
        "criterion_kd = nn.KLDivLoss(reduction='batchmean')\n",
        "optimizer_teacher = optim.Adam(teacher_model.parameters(), lr=0.001)\n",
        "optimizer_student = optim.Adam(student_model.parameters(), lr=0.0005)\n",
        "\n",
        "# Train teacher on Task 1\n",
        "print(\"Training Teacher Model on Task 1...\")\n",
        "train_model(teacher_model, task1_loader, criterion_ce, optimizer_teacher, epochs=5, device=device)\n",
        "accuracy_task1 = evaluate_model(teacher_model, task1_loader, device)\n",
        "print(f\"Teacher Model Accuracy on Task 1: {accuracy_task1:.2f}\")\n",
        "\n",
        "# Fine-tune student on Task 2 with KD\n",
        "print(\"Fine-tuning Student Model on Task 2 using KD...\")\n",
        "alpha = 0.5  # Balance between KD loss and CE loss\n",
        "temperature = 3.0  # Temperature for KD\n",
        "train_model_with_kd(\n",
        "    student=student_model,\n",
        "    teacher=teacher_model,\n",
        "    data_loader=task2_loader,\n",
        "    optimizer=optimizer_student,\n",
        "    criterion_ce=criterion_ce,\n",
        "    criterion_kd=criterion_kd,\n",
        "    alpha=alpha,\n",
        "    temperature=temperature,\n",
        "    epochs=5,\n",
        "    device=device\n",
        ")\n",
        "\n",
        "# Evaluate student on all classes\n",
        "accuracy_combined = evaluate_model(student_model, combined_data_loader, device)\n",
        "print(f\"Student Model Final Accuracy on All Classes: {accuracy_combined:.2f}\")\n"
      ],
      "metadata": {
        "id": "iP6GadzU48qD",
        "outputId": "c76a082a-d556-4b0d-bf39-248328177fcc",
        "colab": {
          "base_uri": "https://localhost:8080/"
        }
      },
      "execution_count": 61,
      "outputs": [
        {
          "output_type": "stream",
          "name": "stdout",
          "text": [
            "Using device: cuda\n",
            "Training Teacher Model on Task 1...\n"
          ]
        },
        {
          "output_type": "stream",
          "name": "stderr",
          "text": [
            "Epoch 1/5: 100%|██████████| 335/335 [00:02<00:00, 131.95batch/s, loss=0.159]\n",
            "Epoch 2/5: 100%|██████████| 335/335 [00:02<00:00, 119.13batch/s, loss=0.0313]\n",
            "Epoch 3/5: 100%|██████████| 335/335 [00:02<00:00, 134.67batch/s, loss=0.0189]\n",
            "Epoch 4/5: 100%|██████████| 335/335 [00:02<00:00, 139.79batch/s, loss=0.0152]\n",
            "Epoch 5/5: 100%|██████████| 335/335 [00:02<00:00, 139.55batch/s, loss=0.00983]\n"
          ]
        },
        {
          "output_type": "stream",
          "name": "stdout",
          "text": [
            "Teacher Model Accuracy on Task 1: 1.00\n",
            "Fine-tuning Student Model on Task 2 using KD...\n"
          ]
        },
        {
          "output_type": "stream",
          "name": "stderr",
          "text": [
            "Epoch 1/5: 100%|██████████| 322/322 [00:02<00:00, 129.66batch/s, loss=4.23]\n",
            "Epoch 2/5: 100%|██████████| 322/322 [00:02<00:00, 107.67batch/s, loss=3.16]\n",
            "Epoch 3/5: 100%|██████████| 322/322 [00:02<00:00, 117.98batch/s, loss=3.02]\n",
            "Epoch 4/5: 100%|██████████| 322/322 [00:02<00:00, 120.38batch/s, loss=2.95]\n",
            "Epoch 5/5: 100%|██████████| 322/322 [00:02<00:00, 109.74batch/s, loss=2.91]\n"
          ]
        },
        {
          "output_type": "stream",
          "name": "stdout",
          "text": [
            "Student Model Final Accuracy on All Classes: 0.80\n"
          ]
        }
      ]
    },
    {
      "cell_type": "code",
      "source": [
        "inference_on_model(student_model,combined_data_loader,10)"
      ],
      "metadata": {
        "id": "RD8bbtv46xh4",
        "outputId": "cd2d3687-ae1c-4b0e-caa3-d8622a6a624d",
        "colab": {
          "base_uri": "https://localhost:8080/",
          "height": 1000
        }
      },
      "execution_count": 62,
      "outputs": [
        {
          "output_type": "stream",
          "name": "stdout",
          "text": [
            "Batch 0 Predictions:\n",
            "Predicted: [1 0 1 4 0 0 7 3 3 3 3 9 1 3 3 1 2 0 7 3 8 6 2 0 2 3 4 4 9 7 8 9 4 4 2 1 3\n",
            " 1 1 4 3 1 4 4 2 6 3 3 7 4 7 3 1 9 0 2 2 3 4 1 1 8 3 0]\n",
            "True:      [1 0 1 4 0 0 7 3 5 3 8 9 1 3 3 1 2 0 7 5 8 6 2 0 2 3 6 9 9 7 8 9 4 9 2 1 3\n",
            " 1 1 4 9 1 4 4 2 6 3 7 7 4 7 5 1 9 0 2 2 3 9 1 1 1 5 0]\n",
            "\n",
            "Accuracy: 80.07%\n"
          ]
        },
        {
          "output_type": "display_data",
          "data": {
            "text/plain": [
              "<Figure size 1000x800 with 2 Axes>"
            ],
            "image/png": "[encoded data removed]"
          },
          "metadata": {}
        },
        {
          "output_type": "stream",
          "name": "stdout",
          "text": [
            "[[4128    0    1    0    0    0    2    0    0    1]\n",
            " [   2 4642   21    2    2    0    1    4   10    0]\n",
            " [  11   36 4037   11    6    0    3   14   54    5]\n",
            " [   9    3   25 4242    0   29    0   15   25    3]\n",
            " [   3   10    8    2 4026    0    5    4    0   14]\n",
            " [ 101   20   18 2252   12 1391    0    1    0    0]\n",
            " [1045   79   22   13  197    0 2781    0    0    0]\n",
            " [  74   52  124  452  219    0    0 3477    2    1]\n",
            " [ 149  131  267  435   39    1    3    0 3036    2]\n",
            " [  78   22    4 1024 1179    0    0   11    1 1869]]\n"
          ]
        }
      ]
    },
    {
      "cell_type": "code",
      "source": [],
      "metadata": {
        "id": "t9_heeU_7CjF"
      },
      "execution_count": null,
      "outputs": []
    }
  ],
  "metadata": {
    "kernelspec": {
      "display_name": "Python 3",
      "name": "python3"
    },
    "language_info": {
      "codemirror_mode": {
        "name": "ipython",
        "version": 3
      },
      "file_extension": ".py",
      "mimetype": "text/x-python",
      "name": "python",
      "nbconvert_exporter": "python",
      "pygments_lexer": "ipython3",
      "version": "3.10.8"
    },
    "colab": {
      "provenance": [],
      "gpuType": "T4"
    },
    "accelerator": "GPU"
  },
  "nbformat": 4,
  "nbformat_minor": 0
}