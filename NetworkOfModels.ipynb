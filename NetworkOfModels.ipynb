{
  "cells": [
    {
      "cell_type": "markdown",
      "metadata": {
        "id": "view-in-github",
        "colab_type": "text"
      },
      "source": [
        "<a href=\"https://colab.research.google.com/github/NandavardhanRadhakrishnan/Class-incremental-learning/blob/main/NetworkOfModels.ipynb\" target=\"_parent\"><img src=\"https://colab.research.google.com/assets/colab-badge.svg\" alt=\"Open In Colab\"/></a>"
      ]
    },
    {
      "cell_type": "code",
      "execution_count": 1,
      "metadata": {
        "vscode": {
          "languageId": "plaintext"
        },
        "id": "-4qBzy6Uavoz"
      },
      "outputs": [],
      "source": [
        "import torch\n",
        "import torch.nn as nn\n",
        "import torch.optim as optim\n",
        "from torch.utils.data import DataLoader, TensorDataset\n",
        "import torch.nn.functional as F\n",
        "\n",
        "import numpy as np\n",
        "import pandas as pd\n",
        "from tqdm import tqdm\n",
        "from sklearn.metrics import confusion_matrix, accuracy_score\n",
        "import seaborn as sns\n",
        "import matplotlib.pyplot as plt"
      ]
    },
    {
      "cell_type": "code",
      "execution_count": 3,
      "metadata": {
        "vscode": {
          "languageId": "plaintext"
        },
        "id": "2Qj0T1Fravo2"
      },
      "outputs": [],
      "source": [
        "def create_mnist_data(class_splits, split_index, csv_file=\"mnist.csv\", image_shape=(1, 28, 28)):\n",
        "    \"\"\"\n",
        "    Creates MNIST dataset for a specific split.\n",
        "    \"\"\"\n",
        "    df = pd.read_csv(csv_file)\n",
        "    all_classes = sorted(df['label'].unique())\n",
        "\n",
        "    start_class = sum(class_splits[:split_index])\n",
        "    end_class = start_class + class_splits[split_index]\n",
        "    valid_classes = all_classes[start_class:end_class]\n",
        "\n",
        "    filtered_df = df[df['label'].isin(valid_classes)]\n",
        "\n",
        "    X = filtered_df.drop(columns=['label']).values\n",
        "    y = filtered_df['label'].values\n",
        "\n",
        "    label_mapping = {cls: i for i, cls in enumerate(valid_classes)}\n",
        "    y = np.array([label_mapping[label] for label in y])\n",
        "\n",
        "    X = torch.tensor(X / 255.0, dtype=torch.float32)\n",
        "    X = X.view(-1, *image_shape)\n",
        "    y = torch.tensor(y, dtype=torch.long)\n",
        "\n",
        "    return TensorDataset(X, y)\n",
        "\n"
      ]
    },
    {
      "cell_type": "code",
      "execution_count": 4,
      "metadata": {
        "vscode": {
          "languageId": "plaintext"
        },
        "id": "QK36RLulavo3"
      },
      "outputs": [],
      "source": [
        "def create_group_data(class_splits, csv_file=\"mnist.csv\", image_shape=(1, 28, 28)):\n",
        "    \"\"\"\n",
        "    Creates MNIST dataset for the grouping model (e.g., maps different splits to groups).\n",
        "    \"\"\"\n",
        "    df = pd.read_csv(csv_file)\n",
        "\n",
        "    def relabel_digit(digit):\n",
        "        for i, split in enumerate(class_splits):\n",
        "            if digit < sum(class_splits[:i + 1]):\n",
        "                return i\n",
        "        return len(class_splits) - 1\n",
        "\n",
        "    df['label'] = df['label'].apply(relabel_digit)\n",
        "\n",
        "    X = df.drop(columns=['label']).values\n",
        "    y = df['label'].values\n",
        "\n",
        "    X = torch.tensor(X / 255.0, dtype=torch.float32)\n",
        "    X = X.view(-1, *image_shape)\n",
        "    y = torch.tensor(y, dtype=torch.long)\n",
        "\n",
        "    return TensorDataset(X, y)\n",
        "\n"
      ]
    },
    {
      "cell_type": "code",
      "execution_count": 5,
      "metadata": {
        "vscode": {
          "languageId": "plaintext"
        },
        "id": "K6qY3yONavo3"
      },
      "outputs": [],
      "source": [
        "class SimpleCNN(nn.Module):\n",
        "    def __init__(self, num_classes):\n",
        "        super(SimpleCNN, self).__init__()\n",
        "        self.conv1 = nn.Conv2d(1, 32, kernel_size=3, stride=1, padding=1)\n",
        "        self.conv2 = nn.Conv2d(32, 64, kernel_size=3, stride=1, padding=1)\n",
        "        self.fc1 = nn.Linear(64 * 7 * 7, 128)\n",
        "        self.fc2 = nn.Linear(128, num_classes)\n",
        "\n",
        "    def forward(self, x):\n",
        "        x = torch.relu(self.conv1(x))\n",
        "        x = torch.max_pool2d(x, 2, 2)\n",
        "        x = torch.relu(self.conv2(x))\n",
        "        x = torch.max_pool2d(x, 2, 2)\n",
        "        x = x.view(x.size(0), -1)\n",
        "        x = torch.relu(self.fc1(x))\n",
        "        x = self.fc2(x)\n",
        "        return x\n",
        "\n"
      ]
    },
    {
      "cell_type": "code",
      "execution_count": 6,
      "metadata": {
        "vscode": {
          "languageId": "plaintext"
        },
        "id": "MnaXRpGZavo4"
      },
      "outputs": [],
      "source": [
        "def train_model(model, data_loader, criterion, optimizer, epochs, device):\n",
        "    \"\"\"\n",
        "    Trains a given model.\n",
        "    \"\"\"\n",
        "    model.train()\n",
        "    for epoch in range(epochs):\n",
        "        total_loss = 0\n",
        "        with tqdm(total=len(data_loader), desc=f\"Epoch {epoch + 1}/{epochs}\", unit=\"batch\") as pbar:\n",
        "            for X_batch, y_batch in data_loader:\n",
        "                X_batch, y_batch = X_batch.to(device), y_batch.to(device)\n",
        "                optimizer.zero_grad()\n",
        "                outputs = model(X_batch)\n",
        "                loss = criterion(outputs, y_batch)\n",
        "                loss.backward()\n",
        "                optimizer.step()\n",
        "                total_loss += loss.item()\n",
        "                pbar.set_postfix(loss=total_loss / (pbar.n + 1))\n",
        "                pbar.update(1)\n",
        "\n"
      ]
    },
    {
      "cell_type": "code",
      "execution_count": 7,
      "metadata": {
        "vscode": {
          "languageId": "plaintext"
        },
        "id": "JZYfN2kLavo4"
      },
      "outputs": [],
      "source": [
        "def inference_with_grouping(models, model_group, combined_loader, class_splits, index=None):\n",
        "    \"\"\"\n",
        "    Performs inference using multiple models based on a grouping model.\n",
        "    \"\"\"\n",
        "    all_preds = []\n",
        "    all_labels = []\n",
        "    device = torch.device(\"cuda\" if torch.cuda.is_available() else \"cpu\")\n",
        "\n",
        "    model_group.eval()\n",
        "    for model in models:\n",
        "        model.eval()\n",
        "\n",
        "    with torch.no_grad():\n",
        "        for batch_idx, (images, labels) in enumerate(combined_loader):\n",
        "            images, labels = images.to(device), labels.to(device)\n",
        "\n",
        "            if len(images.shape) == 3:\n",
        "                images = images.unsqueeze(1)\n",
        "\n",
        "            # If index is provided, infer only that index\n",
        "            if index is not None:\n",
        "                images = images[index].unsqueeze(0)\n",
        "                labels = labels[index].unsqueeze(0)\n",
        "\n",
        "            # Determine which model to use\n",
        "            group_logits = model_group(images)\n",
        "            group_pred = torch.argmax(group_logits, dim=1)\n",
        "\n",
        "            final_preds = []\n",
        "            for i in range(images.shape[0]):\n",
        "                model_idx = group_pred[i].item()\n",
        "                model = models[model_idx]\n",
        "                logits = model(images[i].unsqueeze(0))\n",
        "                pred = torch.argmax(logits, dim=1).item()\n",
        "\n",
        "                # Offset to match global label space\n",
        "                offset = sum(class_splits[:model_idx])\n",
        "                final_preds.append(pred + offset)\n",
        "\n",
        "            all_preds.extend(final_preds)\n",
        "            all_labels.extend(labels.cpu().numpy())\n",
        "\n",
        "            if batch_idx % 2000 == 0 or index is not None:\n",
        "                print(f\"Batch {batch_idx} Predictions:\")\n",
        "                print(f\"Predicted: {final_preds}\")\n",
        "                print(f\"True:      {labels.cpu().numpy()}\")\n",
        "\n",
        "            if index is not None:\n",
        "                break\n",
        "\n",
        "    # Compute accuracy\n",
        "    accuracy = accuracy_score(all_labels, all_preds)\n",
        "    print(f\"\\nOverall Accuracy: {accuracy * 100:.2f}%\")\n",
        "\n",
        "    # Confusion matrix\n",
        "    cm = confusion_matrix(all_labels, all_preds, labels=list(range(sum(class_splits))))\n",
        "    plt.figure(figsize=(10, 8))\n",
        "    sns.heatmap(cm, annot=True, fmt=\"d\", cmap=\"Blues\",\n",
        "                xticklabels=list(range(sum(class_splits))),\n",
        "                yticklabels=list(range(sum(class_splits))))\n",
        "    plt.xlabel(\"Predicted\")\n",
        "    plt.ylabel(\"True\")\n",
        "    plt.title(\"Confusion Matrix\")\n",
        "    plt.show()\n",
        "    print(cm)\n",
        "\n"
      ]
    },
    {
      "cell_type": "code",
      "execution_count": 9,
      "metadata": {
        "vscode": {
          "languageId": "plaintext"
        },
        "id": "LQqWSXC6avo4",
        "outputId": "ca1f86c1-c176-48e0-cb99-a109338eae66",
        "colab": {
          "base_uri": "https://localhost:8080/",
          "height": 1000
        }
      },
      "outputs": [
        {
          "output_type": "stream",
          "name": "stdout",
          "text": [
            "Using device: cpu\n",
            "\n",
            "Creating dataset for split 0 with 3 classes...\n",
            "Training model 0 for 3 classes...\n"
          ]
        },
        {
          "output_type": "stream",
          "name": "stderr",
          "text": [
            "Epoch 1/3: 100%|██████████| 204/204 [00:15<00:00, 13.13batch/s, loss=0.101]\n",
            "Epoch 2/3: 100%|██████████| 204/204 [00:16<00:00, 12.62batch/s, loss=0.0216]\n",
            "Epoch 3/3: 100%|██████████| 204/204 [00:15<00:00, 12.89batch/s, loss=0.0114]\n"
          ]
        },
        {
          "output_type": "stream",
          "name": "stdout",
          "text": [
            "Model 0 training completed.\n",
            "\n",
            "Creating dataset for split 1 with 3 classes...\n",
            "Training model 1 for 3 classes...\n"
          ]
        },
        {
          "output_type": "stream",
          "name": "stderr",
          "text": [
            "Epoch 1/3: 100%|██████████| 191/191 [00:14<00:00, 13.15batch/s, loss=0.122]\n",
            "Epoch 2/3: 100%|██████████| 191/191 [00:14<00:00, 13.27batch/s, loss=0.0203]\n",
            "Epoch 3/3: 100%|██████████| 191/191 [00:14<00:00, 13.10batch/s, loss=0.0134]\n"
          ]
        },
        {
          "output_type": "stream",
          "name": "stdout",
          "text": [
            "Model 1 training completed.\n",
            "\n",
            "Creating dataset for split 2 with 4 classes...\n",
            "Training model 2 for 4 classes...\n"
          ]
        },
        {
          "output_type": "stream",
          "name": "stderr",
          "text": [
            "Epoch 1/3: 100%|██████████| 263/263 [00:19<00:00, 13.38batch/s, loss=0.164]\n",
            "Epoch 2/3: 100%|██████████| 263/263 [00:20<00:00, 12.78batch/s, loss=0.0378]\n",
            "Epoch 3/3: 100%|██████████| 263/263 [00:20<00:00, 12.89batch/s, loss=0.0256]\n"
          ]
        },
        {
          "output_type": "stream",
          "name": "stdout",
          "text": [
            "Model 2 training completed.\n",
            "\n",
            "Creating and training group classifier model...\n"
          ]
        },
        {
          "output_type": "stream",
          "name": "stderr",
          "text": [
            "Epoch 1/3: 100%|██████████| 657/657 [00:51<00:00, 12.67batch/s, loss=0.178]\n",
            "Epoch 2/3: 100%|██████████| 657/657 [00:53<00:00, 12.30batch/s, loss=0.0553]\n",
            "Epoch 3/3: 100%|██████████| 657/657 [00:54<00:00, 12.10batch/s, loss=0.0356]\n"
          ]
        },
        {
          "output_type": "stream",
          "name": "stdout",
          "text": [
            "Group classifier model training completed.\n",
            "\n",
            "Creating combined dataset for inference...\n",
            "Starting inference using grouped models...\n",
            "\n",
            "Batch 0 Predictions:\n",
            "Predicted: [1, 0, 1, 4, 0, 0, 7, 3, 5, 3, 8, 9, 1, 3, 3, 1, 2, 0, 7, 6, 8, 6, 2, 0, 2, 3, 6, 9, 9, 7, 8, 9, 4, 9, 2, 1, 3, 1, 1, 4, 9, 1, 4, 4, 2, 6, 3, 7, 7, 4, 7, 5, 1, 9, 0, 2, 2, 3, 9, 1, 1, 1, 5, 0]\n",
            "True:      [1 0 1 4 0 0 7 3 5 3 8 9 1 3 3 1 2 0 7 5 8 6 2 0 2 3 6 9 9 7 8 9 4 9 2 1 3\n",
            " 1 1 4 9 1 4 4 2 6 3 7 7 4 7 5 1 9 0 2 2 3 9 1 1 1 5 0]\n",
            "\n",
            "Overall Accuracy: 98.66%\n"
          ]
        },
        {
          "output_type": "display_data",
          "data": {
            "text/plain": [
              "<Figure size 1000x800 with 2 Axes>"
            ],
            "image/png": "[encoded data removed]"
          },
          "metadata": {}
        },
        {
          "output_type": "stream",
          "name": "stdout",
          "text": [
            "[[4017    0  108    0    0    0    5    0    1    1]\n",
            " [   0 4643   29    0    2    0    0   10    0    0]\n",
            " [   0    1 4158    0    2    0    0   14    1    1]\n",
            " [   1    1   12 4282    0   17    0   22    8    8]\n",
            " [   2    6    1    0 4039    0    5    4    0   15]\n",
            " [   0    3    2    0    0 3725   22    6   30    7]\n",
            " [   9    8   11    0    3    0 4101    0    5    0]\n",
            " [   0    6   12    2    9    0    0 4370    0    2]\n",
            " [   1   14   24    1    5    0    5   15 3980   18]\n",
            " [   8    3    1    5   14    4    0   28    4 4121]]\n",
            "Inference completed.\n"
          ]
        }
      ],
      "source": [
        "# ---- Main Script ----\n",
        "class_splits = [3,3,4]  # Example class split\n",
        "image_shape = (1, 28, 28)\n",
        "batch_size = 64\n",
        "device = torch.device(\"cuda\" if torch.cuda.is_available() else \"cpu\")\n",
        "print(f\"Using device: {device}\\n\")\n",
        "\n",
        "# Create datasets and models\n",
        "models = []\n",
        "data_loaders = []\n",
        "for i, num_classes in enumerate(class_splits):\n",
        "    print(f\"Creating dataset for split {i} with {num_classes} classes...\")\n",
        "    dataset = create_mnist_data(class_splits, i, image_shape=image_shape)\n",
        "    loader = DataLoader(dataset, batch_size=batch_size, shuffle=True)\n",
        "    data_loaders.append(loader)\n",
        "\n",
        "    print(f\"Training model {i} for {num_classes} classes...\")\n",
        "    model = SimpleCNN(num_classes).to(device)\n",
        "    optimizer = optim.Adam(model.parameters(), lr=0.001)\n",
        "    criterion = nn.CrossEntropyLoss()\n",
        "    train_model(model, loader, criterion, optimizer, epochs=3, device=device)\n",
        "\n",
        "    models.append(model)\n",
        "    print(f\"Model {i} training completed.\\n\")\n",
        "\n",
        "# Create and train grouping model\n",
        "print(\"Creating and training group classifier model...\")\n",
        "group_data = create_group_data(class_splits, image_shape=image_shape)\n",
        "group_loader = DataLoader(group_data, batch_size=batch_size, shuffle=True)\n",
        "\n",
        "model_group = SimpleCNN(len(class_splits)).to(device)\n",
        "optimizer_group = optim.Adam(model_group.parameters(), lr=0.001)\n",
        "criterion_group = nn.CrossEntropyLoss()\n",
        "train_model(model_group, group_loader, criterion_group, optimizer_group, epochs=3, device=device)\n",
        "print(\"Group classifier model training completed.\\n\")\n",
        "\n",
        "# Perform inference\n",
        "print(\"Creating combined dataset for inference...\")\n",
        "combined_data = create_mnist_data([sum(class_splits)], 0, image_shape=image_shape)\n",
        "combined_loader = DataLoader(combined_data, batch_size=batch_size, shuffle=False)\n",
        "\n",
        "print(\"Starting inference using grouped models...\\n\")\n",
        "inference_with_grouping(models, model_group, combined_loader, class_splits)\n",
        "print(\"Inference completed.\")\n"
      ]
    },
    {
      "cell_type": "code",
      "source": [],
      "metadata": {
        "id": "RICzFkf1bZRr"
      },
      "execution_count": null,
      "outputs": []
    }
  ],
  "metadata": {
    "colab": {
      "provenance": [],
      "include_colab_link": true
    },
    "kernelspec": {
      "display_name": "Python 3",
      "name": "python3"
    },
    "language_info": {
      "name": "python"
    }
  },
  "nbformat": 4,
  "nbformat_minor": 0
}