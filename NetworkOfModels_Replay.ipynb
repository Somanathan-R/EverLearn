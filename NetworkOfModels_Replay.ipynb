{
  "cells": [
    {
      "cell_type": "code",
      "execution_count": 1,
      "metadata": {
        "vscode": {
          "languageId": "plaintext"
        },
        "id": "-4qBzy6Uavoz"
      },
      "outputs": [],
      "source": [
        "import torch\n",
        "import torch.nn as nn\n",
        "import torch.optim as optim\n",
        "from torch.utils.data import DataLoader, TensorDataset\n",
        "import torch.nn.functional as F\n",
        "\n",
        "import numpy as np\n",
        "import pandas as pd\n",
        "from tqdm import tqdm\n",
        "from sklearn.metrics import confusion_matrix, accuracy_score\n",
        "import seaborn as sns\n",
        "import matplotlib.pyplot as plt\n",
        "import zipfile\n",
        "import copy\n"
      ]
    },
    {
      "cell_type": "code",
      "execution_count": 2,
      "metadata": {
        "vscode": {
          "languageId": "plaintext"
        },
        "id": "2Qj0T1Fravo2"
      },
      "outputs": [],
      "source": [
        "def create_mnist_data(class_splits, split_index, csv_file=\"mnist.csv\", image_shape=(1, 28, 28)):\n",
        "    df = pd.read_csv(csv_file)\n",
        "    all_classes = sorted(df['label'].unique())\n",
        "    start_class = sum(class_splits[:split_index])\n",
        "    end_class = start_class + class_splits[split_index]\n",
        "    valid_classes = all_classes[start_class:end_class]\n",
        "\n",
        "    filtered_df = df[df['label'].isin(valid_classes)]\n",
        "    X = filtered_df.drop(columns=['label']).values\n",
        "    y = filtered_df['label'].values\n",
        "    label_mapping = {cls: i for i, cls in enumerate(valid_classes)}\n",
        "    y = np.array([label_mapping[label] for label in y])\n",
        "\n",
        "    X = torch.tensor(X / 255.0, dtype=torch.float32).view(-1, *image_shape)\n",
        "    y = torch.tensor(y, dtype=torch.long)\n",
        "\n",
        "    return TensorDataset(X, y)"
      ]
    },
    {
      "cell_type": "code",
      "source": [
        "def sample_finetune_data(dataset,new_label, samples_per_class=200):\n",
        "    data_loader = DataLoader(dataset, batch_size=len(dataset), shuffle=True)\n",
        "    X, y = next(iter(data_loader))\n",
        "    sampled_X, sampled_y = [], []\n",
        "\n",
        "    for label in y.unique():\n",
        "        indices = (y == label).nonzero(as_tuple=True)[0][:samples_per_class]\n",
        "        sampled_X.append(X[indices])\n",
        "        sampled_y.append(y[indices])\n",
        "\n",
        "    sampled_X = torch.cat(sampled_X)\n",
        "    sampled_y = torch.cat(sampled_y)\n",
        "    sampled_y = torch.full_like(sampled_y, new_label)\n",
        "    return TensorDataset(sampled_X, sampled_y)"
      ],
      "metadata": {
        "id": "QFcEyw9bVswc"
      },
      "execution_count": 3,
      "outputs": []
    },
    {
      "cell_type": "code",
      "source": [
        "def create_partial_group_data(finetune_sets):\n",
        "    X, y = [], []\n",
        "    for i, dataset in enumerate(finetune_sets):\n",
        "        data_loader = DataLoader(dataset, batch_size=len(dataset), shuffle=False)\n",
        "        X_batch, y_batch = next(iter(data_loader))\n",
        "        X.append(X_batch)\n",
        "        y.append(torch.full_like(y_batch, i))\n",
        "\n",
        "    X = torch.cat(X)\n",
        "    y = torch.cat(y)\n",
        "    return TensorDataset(X, y)\n"
      ],
      "metadata": {
        "id": "aWTXlbBmVxMn"
      },
      "execution_count": 4,
      "outputs": []
    },
    {
      "cell_type": "code",
      "execution_count": 5,
      "metadata": {
        "vscode": {
          "languageId": "plaintext"
        },
        "id": "K6qY3yONavo3"
      },
      "outputs": [],
      "source": [
        "class SimpleCNN(nn.Module):\n",
        "    def __init__(self, num_classes):\n",
        "        super(SimpleCNN, self).__init__()\n",
        "        self.conv1 = nn.Conv2d(1, 32, kernel_size=3, stride=1, padding=1)\n",
        "        self.conv2 = nn.Conv2d(32, 64, kernel_size=3, stride=1, padding=1)\n",
        "        self.fc1 = nn.Linear(64 * 7 * 7, 128)\n",
        "        self.fc2 = nn.Linear(128, num_classes)\n",
        "\n",
        "    def forward(self, x):\n",
        "        x = torch.relu(self.conv1(x))\n",
        "        x = torch.max_pool2d(x, 2, 2)\n",
        "        x = torch.relu(self.conv2(x))\n",
        "        x = torch.max_pool2d(x, 2, 2)\n",
        "        x = x.view(x.size(0), -1)\n",
        "        x = torch.relu(self.fc1(x))\n",
        "        x = self.fc2(x)\n",
        "        return x\n",
        "\n"
      ]
    },
    {
      "cell_type": "code",
      "execution_count": 6,
      "metadata": {
        "vscode": {
          "languageId": "plaintext"
        },
        "id": "MnaXRpGZavo4"
      },
      "outputs": [],
      "source": [
        "def train_model(model, data_loader, criterion, optimizer, epochs, device):\n",
        "    \"\"\"\n",
        "    Trains a given model.\n",
        "    \"\"\"\n",
        "    model.train()\n",
        "    for epoch in range(epochs):\n",
        "        total_loss = 0\n",
        "        with tqdm(total=len(data_loader), desc=f\"Epoch {epoch + 1}/{epochs}\", unit=\"batch\") as pbar:\n",
        "            for X_batch, y_batch in data_loader:\n",
        "                X_batch, y_batch = X_batch.to(device), y_batch.to(device)\n",
        "                optimizer.zero_grad()\n",
        "                outputs = model(X_batch)\n",
        "                loss = criterion(outputs, y_batch)\n",
        "                loss.backward()\n",
        "                optimizer.step()\n",
        "                total_loss += loss.item()\n",
        "                pbar.set_postfix(loss=total_loss / (pbar.n + 1))\n",
        "                pbar.update(1)\n",
        "\n"
      ]
    },
    {
      "cell_type": "code",
      "execution_count": 7,
      "metadata": {
        "vscode": {
          "languageId": "plaintext"
        },
        "id": "JZYfN2kLavo4"
      },
      "outputs": [],
      "source": [
        "def inference_with_grouping(models, model_group, combined_loader, class_splits, index=None):\n",
        "    \"\"\"\n",
        "    Performs inference using multiple models based on a grouping model.\n",
        "    \"\"\"\n",
        "    all_preds = []\n",
        "    all_labels = []\n",
        "    device = torch.device(\"cuda\" if torch.cuda.is_available() else \"cpu\")\n",
        "\n",
        "    model_group.eval()\n",
        "    for model in models:\n",
        "        model.eval()\n",
        "\n",
        "    with torch.no_grad():\n",
        "        for batch_idx, (images, labels) in enumerate(combined_loader):\n",
        "            images, labels = images.to(device), labels.to(device)\n",
        "\n",
        "            if len(images.shape) == 3:\n",
        "                images = images.unsqueeze(1)\n",
        "\n",
        "            # If index is provided, infer only that index\n",
        "            if index is not None:\n",
        "                images = images[index].unsqueeze(0)\n",
        "                labels = labels[index].unsqueeze(0)\n",
        "\n",
        "            # Determine which model to use\n",
        "            group_logits = model_group(images)\n",
        "            group_pred = torch.argmax(group_logits, dim=1)\n",
        "            final_preds = []\n",
        "            for i in range(images.shape[0]):\n",
        "                model_idx = group_pred[i].item()\n",
        "                model = models[model_idx]\n",
        "                logits = model(images[i].unsqueeze(0))\n",
        "                pred = torch.argmax(logits, dim=1).item()\n",
        "                # print(f\"Model {model_idx} prediction: {pred}\")\n",
        "\n",
        "                # Offset to match global label space\n",
        "                offset = sum(class_splits[:model_idx])\n",
        "                final_preds.append(pred + offset)\n",
        "\n",
        "            all_preds.extend(final_preds)\n",
        "            all_labels.extend(labels.cpu().numpy())\n",
        "\n",
        "            if batch_idx % 2000 == 0 or index is not None:\n",
        "                print(f\"Batch {batch_idx} Predictions:\")\n",
        "                print(f\"Predicted: {final_preds}\")\n",
        "                print(f\"True:      {labels.cpu().numpy()}\")\n",
        "\n",
        "            if index is not None:\n",
        "                break\n",
        "\n",
        "    # Compute accuracy\n",
        "    accuracy = accuracy_score(all_labels, all_preds)\n",
        "    print(f\"\\nOverall Accuracy: {accuracy * 100:.2f}%\")\n",
        "\n",
        "    # Confusion matrix\n",
        "    cm = confusion_matrix(all_labels, all_preds, labels=list(range(sum(class_splits))))\n",
        "    plt.figure(figsize=(10, 8))\n",
        "    sns.heatmap(cm, annot=True, fmt=\"d\", cmap=\"Blues\",\n",
        "                xticklabels=list(range(sum(class_splits))),\n",
        "                yticklabels=list(range(sum(class_splits))))\n",
        "    plt.xlabel(\"Predicted\")\n",
        "    plt.ylabel(\"True\")\n",
        "    plt.title(\"Confusion Matrix\")\n",
        "    plt.show()\n",
        "    print(cm)\n",
        "\n"
      ]
    },
    {
      "cell_type": "code",
      "source": [
        "# --- Main Execution ---\n",
        "class_splits = [5,5]\n",
        "image_shape = (1, 28, 28)\n",
        "batch_size = 64\n",
        "device = torch.device(\"cuda\" if torch.cuda.is_available() else \"cpu\")\n",
        "print(f\"Using device: {device}\\n\")\n",
        "\n",
        "models = []\n",
        "data_loaders = []\n",
        "replay_buffer = []\n",
        "\n",
        "group_model = SimpleCNN(len(class_splits)).to(device)\n",
        "optimizer_group = optim.Adam(group_model.parameters(), lr=0.001)\n",
        "criterion = nn.CrossEntropyLoss()\n",
        "\n",
        "for i, num_classes in enumerate(class_splits):\n",
        "    dataset = create_mnist_data(class_splits, i, image_shape=image_shape)\n",
        "    loader = DataLoader(dataset, batch_size=batch_size, shuffle=True)\n",
        "    data_loaders.append(loader)\n",
        "    print(f\"Training model {i} with {num_classes} classes\")\n",
        "    model = SimpleCNN(num_classes).to(device)\n",
        "    optimizer = optim.Adam(model.parameters(), lr=0.001)\n",
        "    train_model(model, loader, criterion, optimizer, epochs=3, device=device)\n",
        "    models.append(model)\n",
        "\n",
        "    group_data = sample_finetune_data(dataset,i,100)\n",
        "    replay_buffer.extend(group_data)\n",
        "\n",
        "print(\"replay size:\",len(replay_buffer))\n",
        "group_loader = DataLoader(replay_buffer, batch_size=batch_size,shuffle=True)\n",
        "train_model(group_model, group_loader, criterion, optimizer_group, epochs=10, device=device)\n",
        "\n",
        "print(\"\\nTraining complete. Evaluating group model...\")"
      ],
      "metadata": {
        "colab": {
          "base_uri": "https://localhost:8080/"
        },
        "id": "HXNGZEtcV8R_",
        "outputId": "6df1ad9c-05ad-4450-84dd-e7b38d80fa26"
      },
      "execution_count": 8,
      "outputs": [
        {
          "output_type": "stream",
          "name": "stdout",
          "text": [
            "Using device: cuda\n",
            "\n",
            "Training model 0 with 5 classes\n"
          ]
        },
        {
          "output_type": "stream",
          "name": "stderr",
          "text": [
            "Epoch 1/3: 100%|██████████| 335/335 [00:02<00:00, 116.25batch/s, loss=0.127]\n",
            "Epoch 2/3: 100%|██████████| 335/335 [00:01<00:00, 171.64batch/s, loss=0.0276]\n",
            "Epoch 3/3: 100%|██████████| 335/335 [00:02<00:00, 153.36batch/s, loss=0.0164]\n"
          ]
        },
        {
          "output_type": "stream",
          "name": "stdout",
          "text": [
            "Training model 1 with 5 classes\n"
          ]
        },
        {
          "output_type": "stream",
          "name": "stderr",
          "text": [
            "Epoch 1/3: 100%|██████████| 322/322 [00:01<00:00, 182.56batch/s, loss=0.188]\n",
            "Epoch 2/3: 100%|██████████| 322/322 [00:01<00:00, 185.67batch/s, loss=0.0436]\n",
            "Epoch 3/3: 100%|██████████| 322/322 [00:01<00:00, 184.93batch/s, loss=0.0316]\n"
          ]
        },
        {
          "output_type": "stream",
          "name": "stdout",
          "text": [
            "replay size: 1000\n"
          ]
        },
        {
          "output_type": "stream",
          "name": "stderr",
          "text": [
            "Epoch 1/10: 100%|██████████| 16/16 [00:00<00:00, 236.23batch/s, loss=0.65]\n",
            "Epoch 2/10: 100%|██████████| 16/16 [00:00<00:00, 243.32batch/s, loss=0.498]\n",
            "Epoch 3/10: 100%|██████████| 16/16 [00:00<00:00, 251.18batch/s, loss=0.357]\n",
            "Epoch 4/10: 100%|██████████| 16/16 [00:00<00:00, 248.38batch/s, loss=0.25]\n",
            "Epoch 5/10: 100%|██████████| 16/16 [00:00<00:00, 256.23batch/s, loss=0.205]\n",
            "Epoch 6/10: 100%|██████████| 16/16 [00:00<00:00, 258.03batch/s, loss=0.15]\n",
            "Epoch 7/10: 100%|██████████| 16/16 [00:00<00:00, 260.97batch/s, loss=0.122]\n",
            "Epoch 8/10: 100%|██████████| 16/16 [00:00<00:00, 257.41batch/s, loss=0.0915]\n",
            "Epoch 9/10: 100%|██████████| 16/16 [00:00<00:00, 248.44batch/s, loss=0.0758]\n",
            "Epoch 10/10: 100%|██████████| 16/16 [00:00<00:00, 258.06batch/s, loss=0.0624]"
          ]
        },
        {
          "output_type": "stream",
          "name": "stdout",
          "text": [
            "\n",
            "Training complete. Evaluating group model...\n"
          ]
        },
        {
          "output_type": "stream",
          "name": "stderr",
          "text": [
            "\n"
          ]
        }
      ]
    },
    {
      "cell_type": "code",
      "source": [
        "combined_loader = DataLoader(create_mnist_data([sum(class_splits)], 0, image_shape=image_shape), batch_size=batch_size)\n",
        "inference_with_grouping(models, group_model, combined_loader, class_splits)\n"
      ],
      "metadata": {
        "colab": {
          "base_uri": "https://localhost:8080/",
          "height": 1000
        },
        "id": "0KtXEQUTWPVx",
        "outputId": "8aa6811b-c39c-434a-8ca0-3ce39b2480d8"
      },
      "execution_count": 9,
      "outputs": [
        {
          "output_type": "stream",
          "name": "stdout",
          "text": [
            "Batch 0 Predictions:\n",
            "Predicted: [1, 0, 1, 4, 0, 0, 7, 3, 5, 3, 8, 9, 1, 3, 3, 1, 2, 0, 7, 5, 8, 6, 2, 0, 2, 3, 6, 9, 9, 7, 8, 9, 4, 9, 7, 1, 3, 1, 1, 4, 3, 1, 4, 4, 2, 6, 3, 7, 7, 4, 7, 5, 1, 9, 0, 2, 2, 3, 9, 1, 1, 1, 5, 0]\n",
            "True:      [1 0 1 4 0 0 7 3 5 3 8 9 1 3 3 1 2 0 7 5 8 6 2 0 2 3 6 9 9 7 8 9 4 9 2 1 3\n",
            " 1 1 4 9 1 4 4 2 6 3 7 7 4 7 5 1 9 0 2 2 3 9 1 1 1 5 0]\n",
            "\n",
            "Overall Accuracy: 94.09%\n"
          ]
        },
        {
          "output_type": "display_data",
          "data": {
            "text/plain": [
              "<Figure size 1000x800 with 2 Axes>"
            ],
            "image/png": "[encoded data removed]"
          },
          "metadata": {}
        },
        {
          "output_type": "stream",
          "name": "stdout",
          "text": [
            "[[4053    0    0    0    0    9   45    2   17    6]\n",
            " [   0 4649    7    8    1    5    0    6    6    2]\n",
            " [   6    1 3985    6    0    2    1   86   84    6]\n",
            " [   3    0    5 4108    0   83    0   55   52   45]\n",
            " [   5    5   14    0 3823    0   11    5   52  157]\n",
            " [  21    8    3  134    2 3618    2    0    3    4]\n",
            " [  86   16    9   16   17   12 3977    0    2    2]\n",
            " [  36   16  108  177   38    0    0 4010    5   11]\n",
            " [  76   51  130  376   19   11    2    0 3385   13]\n",
            " [  27    5    7  113  107    4    0   14    1 3910]]\n"
          ]
        }
      ]
    },
    {
      "cell_type": "code",
      "source": [],
      "metadata": {
        "id": "aTd2rbbJdGg9"
      },
      "execution_count": null,
      "outputs": []
    }
  ],
  "metadata": {
    "colab": {
      "provenance": [],
      "gpuType": "T4"
    },
    "kernelspec": {
      "display_name": "Python 3",
      "name": "python3"
    },
    "language_info": {
      "name": "python"
    },
    "accelerator": "GPU"
  },
  "nbformat": 4,
  "nbformat_minor": 0
}